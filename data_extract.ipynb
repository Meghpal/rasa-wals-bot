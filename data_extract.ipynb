{
 "metadata": {
  "language_info": {
   "codemirror_mode": {
    "name": "ipython",
    "version": 3
   },
   "file_extension": ".py",
   "mimetype": "text/x-python",
   "name": "python",
   "nbconvert_exporter": "python",
   "pygments_lexer": "ipython3",
   "version": "3.8.5"
  },
  "orig_nbformat": 2,
  "kernelspec": {
   "name": "python3",
   "display_name": "Python 3.8.5 64-bit ('base': conda)",
   "metadata": {
    "interpreter": {
     "hash": "008038ebfbf986d24d9e802f329841cd246bee19988135a0e6f877e1b783cd03"
    }
   }
  }
 },
 "nbformat": 4,
 "nbformat_minor": 2,
 "cells": [
  {
   "cell_type": "code",
   "execution_count": 1,
   "metadata": {},
   "outputs": [],
   "source": [
    "import pandas as pd\n",
    "import os\n",
    "\n",
    "lang_data = pd.read_csv(os.path.join(\"data\", \"cldf-datasets-wals-014143f\", \"raw\", \"language.csv\"))\n",
    "country_data = pd.read_csv(os.path.join(\"data\", \"cldf-datasets-wals-014143f\", \"raw\", \"country.csv\"))\n",
    "cl_data = pd.read_csv(os.path.join(\n",
    "    \"data\", \"cldf-datasets-wals-014143f\", \"raw\", \"countrylanguage.csv\"\n",
    "))"
   ]
  },
  {
   "cell_type": "code",
   "execution_count": 2,
   "metadata": {},
   "outputs": [
    {
     "output_type": "execute_result",
     "data": {
      "text/plain": [
       "(3023, 4)"
      ]
     },
     "metadata": {},
     "execution_count": 2
    }
   ],
   "source": [
    "cl_data.shape"
   ]
  },
  {
   "cell_type": "code",
   "execution_count": 3,
   "metadata": {},
   "outputs": [],
   "source": [
    "merged = pd.merge(\n",
    "    pd.merge(\n",
    "        cl_data,lang_data,\n",
    "        how = 'inner',\n",
    "        left_on = 'language_pk',\n",
    "        right_on='pk'\n",
    "    ),\n",
    "    country_data,\n",
    "    how=\"inner\",\n",
    "    left_on='country_pk',\n",
    "    right_on='pk'\n",
    ")"
   ]
  },
  {
   "cell_type": "code",
   "execution_count": 4,
   "metadata": {},
   "outputs": [],
   "source": [
    "clean = merged[[\"id_x\",\"name_x\",\"latitude\",\"longitude\",\"id_y\",\"name_y\", \"continent\"]]"
   ]
  },
  {
   "cell_type": "code",
   "execution_count": 5,
   "metadata": {},
   "outputs": [
    {
     "output_type": "execute_result",
     "data": {
      "text/plain": [
       "id_x\n",
       "ams    22\n",
       "arg     7\n",
       "lcr     7\n",
       "ydd     5\n",
       "knr     4\n",
       "       ..\n",
       "nic     1\n",
       "nia     1\n",
       "nhx     1\n",
       "nhu     1\n",
       "aab     1\n",
       "Length: 2654, dtype: int64"
      ]
     },
     "metadata": {},
     "execution_count": 5
    }
   ],
   "source": [
    "clean.value_counts(\"id_x\")"
   ]
  },
  {
   "cell_type": "code",
   "execution_count": 6,
   "metadata": {},
   "outputs": [
    {
     "output_type": "execute_result",
     "data": {
      "text/plain": [
       "    id_x                    name_x  latitude  longitude id_y  \\\n",
       "386  ams  Arabic (Modern Standard)      25.0       42.0   SD   \n",
       "879  ams  Arabic (Modern Standard)      25.0       42.0   KW   \n",
       "882  ams  Arabic (Modern Standard)      25.0       42.0   SO   \n",
       "884  ams  Arabic (Modern Standard)      25.0       42.0   SY   \n",
       "887  ams  Arabic (Modern Standard)      25.0       42.0   OM   \n",
       "893  ams  Arabic (Modern Standard)      25.0       42.0   QA   \n",
       "895  ams  Arabic (Modern Standard)      25.0       42.0   EG   \n",
       "901  ams  Arabic (Modern Standard)      25.0       42.0   TN   \n",
       "903  ams  Arabic (Modern Standard)      25.0       42.0   MA   \n",
       "910  ams  Arabic (Modern Standard)      25.0       42.0   LY   \n",
       "914  ams  Arabic (Modern Standard)      25.0       42.0   KM   \n",
       "916  ams  Arabic (Modern Standard)      25.0       42.0   JO   \n",
       "918  ams  Arabic (Modern Standard)      25.0       42.0   LB   \n",
       "923  ams  Arabic (Modern Standard)      25.0       42.0   ER   \n",
       "933  ams  Arabic (Modern Standard)      25.0       42.0   YE   \n",
       "937  ams  Arabic (Modern Standard)      25.0       42.0   SA   \n",
       "940  ams  Arabic (Modern Standard)      25.0       42.0   IQ   \n",
       "950  ams  Arabic (Modern Standard)      25.0       42.0   PS   \n",
       "952  ams  Arabic (Modern Standard)      25.0       42.0   DZ   \n",
       "959  ams  Arabic (Modern Standard)      25.0       42.0   AE   \n",
       "960  ams  Arabic (Modern Standard)      25.0       42.0   BH   \n",
       "963  ams  Arabic (Modern Standard)      25.0       42.0   IL   \n",
       "\n",
       "                             name_y continent  \n",
       "386                           Sudan    Africa  \n",
       "879                          Kuwait      Asia  \n",
       "882                         Somalia    Africa  \n",
       "884                           Syria      Asia  \n",
       "887                            Oman      Asia  \n",
       "893                           Qatar      Asia  \n",
       "895                           Egypt    Africa  \n",
       "901                         Tunisia    Africa  \n",
       "903                         Morocco    Africa  \n",
       "910                           Libya    Africa  \n",
       "914                 Comoros Islands    Africa  \n",
       "916                          Jordan      Asia  \n",
       "918                         Lebanon      Asia  \n",
       "923                         Eritrea    Africa  \n",
       "933                           Yemen      Asia  \n",
       "937                    Saudi Arabia      Asia  \n",
       "940                            Iraq      Asia  \n",
       "950  Palestinian West Bank and Gaza      Asia  \n",
       "952                         Algeria    Africa  \n",
       "959            United Arab Emirates      Asia  \n",
       "960                         Bahrain      Asia  \n",
       "963                          Israel      Asia  "
      ],
      "text/html": "<div>\n<style scoped>\n    .dataframe tbody tr th:only-of-type {\n        vertical-align: middle;\n    }\n\n    .dataframe tbody tr th {\n        vertical-align: top;\n    }\n\n    .dataframe thead th {\n        text-align: right;\n    }\n</style>\n<table border=\"1\" class=\"dataframe\">\n  <thead>\n    <tr style=\"text-align: right;\">\n      <th></th>\n      <th>id_x</th>\n      <th>name_x</th>\n      <th>latitude</th>\n      <th>longitude</th>\n      <th>id_y</th>\n      <th>name_y</th>\n      <th>continent</th>\n    </tr>\n  </thead>\n  <tbody>\n    <tr>\n      <th>386</th>\n      <td>ams</td>\n      <td>Arabic (Modern Standard)</td>\n      <td>25.0</td>\n      <td>42.0</td>\n      <td>SD</td>\n      <td>Sudan</td>\n      <td>Africa</td>\n    </tr>\n    <tr>\n      <th>879</th>\n      <td>ams</td>\n      <td>Arabic (Modern Standard)</td>\n      <td>25.0</td>\n      <td>42.0</td>\n      <td>KW</td>\n      <td>Kuwait</td>\n      <td>Asia</td>\n    </tr>\n    <tr>\n      <th>882</th>\n      <td>ams</td>\n      <td>Arabic (Modern Standard)</td>\n      <td>25.0</td>\n      <td>42.0</td>\n      <td>SO</td>\n      <td>Somalia</td>\n      <td>Africa</td>\n    </tr>\n    <tr>\n      <th>884</th>\n      <td>ams</td>\n      <td>Arabic (Modern Standard)</td>\n      <td>25.0</td>\n      <td>42.0</td>\n      <td>SY</td>\n      <td>Syria</td>\n      <td>Asia</td>\n    </tr>\n    <tr>\n      <th>887</th>\n      <td>ams</td>\n      <td>Arabic (Modern Standard)</td>\n      <td>25.0</td>\n      <td>42.0</td>\n      <td>OM</td>\n      <td>Oman</td>\n      <td>Asia</td>\n    </tr>\n    <tr>\n      <th>893</th>\n      <td>ams</td>\n      <td>Arabic (Modern Standard)</td>\n      <td>25.0</td>\n      <td>42.0</td>\n      <td>QA</td>\n      <td>Qatar</td>\n      <td>Asia</td>\n    </tr>\n    <tr>\n      <th>895</th>\n      <td>ams</td>\n      <td>Arabic (Modern Standard)</td>\n      <td>25.0</td>\n      <td>42.0</td>\n      <td>EG</td>\n      <td>Egypt</td>\n      <td>Africa</td>\n    </tr>\n    <tr>\n      <th>901</th>\n      <td>ams</td>\n      <td>Arabic (Modern Standard)</td>\n      <td>25.0</td>\n      <td>42.0</td>\n      <td>TN</td>\n      <td>Tunisia</td>\n      <td>Africa</td>\n    </tr>\n    <tr>\n      <th>903</th>\n      <td>ams</td>\n      <td>Arabic (Modern Standard)</td>\n      <td>25.0</td>\n      <td>42.0</td>\n      <td>MA</td>\n      <td>Morocco</td>\n      <td>Africa</td>\n    </tr>\n    <tr>\n      <th>910</th>\n      <td>ams</td>\n      <td>Arabic (Modern Standard)</td>\n      <td>25.0</td>\n      <td>42.0</td>\n      <td>LY</td>\n      <td>Libya</td>\n      <td>Africa</td>\n    </tr>\n    <tr>\n      <th>914</th>\n      <td>ams</td>\n      <td>Arabic (Modern Standard)</td>\n      <td>25.0</td>\n      <td>42.0</td>\n      <td>KM</td>\n      <td>Comoros Islands</td>\n      <td>Africa</td>\n    </tr>\n    <tr>\n      <th>916</th>\n      <td>ams</td>\n      <td>Arabic (Modern Standard)</td>\n      <td>25.0</td>\n      <td>42.0</td>\n      <td>JO</td>\n      <td>Jordan</td>\n      <td>Asia</td>\n    </tr>\n    <tr>\n      <th>918</th>\n      <td>ams</td>\n      <td>Arabic (Modern Standard)</td>\n      <td>25.0</td>\n      <td>42.0</td>\n      <td>LB</td>\n      <td>Lebanon</td>\n      <td>Asia</td>\n    </tr>\n    <tr>\n      <th>923</th>\n      <td>ams</td>\n      <td>Arabic (Modern Standard)</td>\n      <td>25.0</td>\n      <td>42.0</td>\n      <td>ER</td>\n      <td>Eritrea</td>\n      <td>Africa</td>\n    </tr>\n    <tr>\n      <th>933</th>\n      <td>ams</td>\n      <td>Arabic (Modern Standard)</td>\n      <td>25.0</td>\n      <td>42.0</td>\n      <td>YE</td>\n      <td>Yemen</td>\n      <td>Asia</td>\n    </tr>\n    <tr>\n      <th>937</th>\n      <td>ams</td>\n      <td>Arabic (Modern Standard)</td>\n      <td>25.0</td>\n      <td>42.0</td>\n      <td>SA</td>\n      <td>Saudi Arabia</td>\n      <td>Asia</td>\n    </tr>\n    <tr>\n      <th>940</th>\n      <td>ams</td>\n      <td>Arabic (Modern Standard)</td>\n      <td>25.0</td>\n      <td>42.0</td>\n      <td>IQ</td>\n      <td>Iraq</td>\n      <td>Asia</td>\n    </tr>\n    <tr>\n      <th>950</th>\n      <td>ams</td>\n      <td>Arabic (Modern Standard)</td>\n      <td>25.0</td>\n      <td>42.0</td>\n      <td>PS</td>\n      <td>Palestinian West Bank and Gaza</td>\n      <td>Asia</td>\n    </tr>\n    <tr>\n      <th>952</th>\n      <td>ams</td>\n      <td>Arabic (Modern Standard)</td>\n      <td>25.0</td>\n      <td>42.0</td>\n      <td>DZ</td>\n      <td>Algeria</td>\n      <td>Africa</td>\n    </tr>\n    <tr>\n      <th>959</th>\n      <td>ams</td>\n      <td>Arabic (Modern Standard)</td>\n      <td>25.0</td>\n      <td>42.0</td>\n      <td>AE</td>\n      <td>United Arab Emirates</td>\n      <td>Asia</td>\n    </tr>\n    <tr>\n      <th>960</th>\n      <td>ams</td>\n      <td>Arabic (Modern Standard)</td>\n      <td>25.0</td>\n      <td>42.0</td>\n      <td>BH</td>\n      <td>Bahrain</td>\n      <td>Asia</td>\n    </tr>\n    <tr>\n      <th>963</th>\n      <td>ams</td>\n      <td>Arabic (Modern Standard)</td>\n      <td>25.0</td>\n      <td>42.0</td>\n      <td>IL</td>\n      <td>Israel</td>\n      <td>Asia</td>\n    </tr>\n  </tbody>\n</table>\n</div>"
     },
     "metadata": {},
     "execution_count": 6
    }
   ],
   "source": [
    "clean[clean[\"id_x\"]==\"ams\"]"
   ]
  },
  {
   "cell_type": "code",
   "execution_count": 7,
   "metadata": {},
   "outputs": [],
   "source": [
    "clean.to_csv(r\"data\\lang_data.csv\", index=False, header=[\"iso_code\",\"lang_name\",\"lat\",\"long\",\"country_id\",\"country_name\",\"continent\"])"
   ]
  }
 ]
}